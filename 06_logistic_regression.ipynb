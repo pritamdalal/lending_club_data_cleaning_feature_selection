{
 "cells": [
  {
   "cell_type": "markdown",
   "id": "a68f291a-aa40-4ba2-9dac-7e4072c206e7",
   "metadata": {},
   "source": [
    "# Fitting a `LogisticRegression`"
   ]
  },
  {
   "cell_type": "markdown",
   "id": "ef0556db-252b-4cf9-81ca-a67eeea1cc71",
   "metadata": {},
   "source": [
    "In this notebook we fit a simple `LogisticRegression` model to some of the numeric features we identified in the previous notebook."
   ]
  },
  {
   "cell_type": "markdown",
   "id": "8302b434-cf17-4d88-b75a-8d520e5cd812",
   "metadata": {},
   "source": [
    "## Importing Packages"
   ]
  },
  {
   "cell_type": "markdown",
   "id": "aa76afdc-51bd-4117-a2fb-77398aa90be7",
   "metadata": {},
   "source": [
    "Let's begin by importing some packages."
   ]
  },
  {
   "cell_type": "code",
   "execution_count": 1,
   "id": "fef78131-d9dc-436f-94ce-1e3d29997d17",
   "metadata": {},
   "outputs": [],
   "source": [
    "import numpy as np\n",
    "import pandas as pd\n",
    "%matplotlib inline"
   ]
  },
  {
   "cell_type": "markdown",
   "id": "3d3c8fcc-5d20-4c7c-a2c0-ba3509150a21",
   "metadata": {},
   "source": [
    "## Reading-In Data"
   ]
  },
  {
   "cell_type": "markdown",
   "id": "ef9b785e-19d1-4718-b7ce-c4867c8d3337",
   "metadata": {},
   "source": [
    "Next we'll read in our full data set."
   ]
  },
  {
   "cell_type": "code",
   "execution_count": 2,
   "id": "a3281442-d145-4584-82c0-4edfe9d710dd",
   "metadata": {},
   "outputs": [],
   "source": [
    "df_default = pd.read_csv('data_processed/03_categorical_processed.csv', low_memory=False)"
   ]
  },
  {
   "cell_type": "markdown",
   "id": "d66eac51-b2cc-4176-9941-f099d28782f8",
   "metadata": {},
   "source": [
    "## Numeric Features"
   ]
  },
  {
   "cell_type": "markdown",
   "id": "9157bcbd-e29d-46e8-9670-ba42432d6343",
   "metadata": {},
   "source": [
    "In a previous year's class, some students noticed that a model that includes `['last_fico_range_high', 'last_fico_range_low', 'int_rate', 'fico_range_low']` seemed to perform pretty well.  I am going to explore this futher."
   ]
  },
  {
   "cell_type": "code",
   "execution_count": 7,
   "id": "8649a9d6-18e5-411e-b1d6-8ef85a708c5a",
   "metadata": {},
   "outputs": [],
   "source": [
    "features_all = [\n",
    "    \"int_rate\",\n",
    "    \"annual_inc\",\n",
    "    \"dti\",\n",
    "    \"revol_util\",\n",
    "    \"tot_cur_bal\",\n",
    "    \"last_fico_range_high\",\n",
    "    \"last_fico_range_low\",\n",
    "    \"fico_range_low\",\n",
    "]"
   ]
  },
  {
   "cell_type": "markdown",
   "id": "0cfbb566-7bc9-416c-9f45-7f285643559a",
   "metadata": {},
   "source": [
    "## Fitting `LogisticRegression` One Variable at a Time"
   ]
  },
  {
   "cell_type": "markdown",
   "id": "f21b040c-0ba2-4dad-8fd9-6c87c8ad36b1",
   "metadata": {},
   "source": [
    "First, I am going to fit a logistic regression to each of the features one at a time."
   ]
  },
  {
   "cell_type": "code",
   "execution_count": 12,
   "id": "827e8243-0dde-4eb5-83a6-3cd6cc197d0b",
   "metadata": {},
   "outputs": [],
   "source": [
    "from sklearn.linear_model import LogisticRegression\n",
    "from sklearn.model_selection import cross_val_score"
   ]
  },
  {
   "cell_type": "code",
   "execution_count": 13,
   "id": "2a544c6e-43d1-4114-878c-559af518a917",
   "metadata": {},
   "outputs": [
    {
     "name": "stdout",
     "output_type": "stream",
     "text": [
      "int_rate\n",
      "annual_inc\n",
      "dti\n",
      "revol_util\n",
      "tot_cur_bal\n",
      "last_fico_range_high\n",
      "last_fico_range_low\n",
      "fico_range_low\n"
     ]
    }
   ],
   "source": [
    "lst_feature = []\n",
    "lst_accuracy = []\n",
    "for ix_feature in features_all:\n",
    "    print(ix_feature)\n",
    "    df_train = df_default[[ix_feature, \"charged_off\"]].dropna() \n",
    "    X = df_train[[ix_feature]]\n",
    "    y = df_train[\"charged_off\"]\n",
    "    model = LogisticRegression(max_iter=1000)\n",
    "    acc = cross_val_score(model, X, y)\n",
    "    lst_feature.append(ix_feature)\n",
    "    lst_accuracy.append(np.mean(acc))"
   ]
  },
  {
   "cell_type": "markdown",
   "id": "3af35995-29ab-408e-97f3-7f8dd01b72f4",
   "metadata": {},
   "source": [
    "As we can see `last_fico_range_high` and `last_fico_range_low` seem to have better performance than the other features."
   ]
  },
  {
   "cell_type": "code",
   "execution_count": 18,
   "id": "3d3d9c95-befc-4817-9020-9f72b6a0831d",
   "metadata": {},
   "outputs": [
    {
     "data": {
      "text/html": [
       "<div>\n",
       "<style scoped>\n",
       "    .dataframe tbody tr th:only-of-type {\n",
       "        vertical-align: middle;\n",
       "    }\n",
       "\n",
       "    .dataframe tbody tr th {\n",
       "        vertical-align: top;\n",
       "    }\n",
       "\n",
       "    .dataframe thead th {\n",
       "        text-align: right;\n",
       "    }\n",
       "</style>\n",
       "<table border=\"1\" class=\"dataframe\">\n",
       "  <thead>\n",
       "    <tr style=\"text-align: right;\">\n",
       "      <th></th>\n",
       "      <th>feature</th>\n",
       "      <th>accuracy</th>\n",
       "    </tr>\n",
       "  </thead>\n",
       "  <tbody>\n",
       "    <tr>\n",
       "      <th>5</th>\n",
       "      <td>last_fico_range_high</td>\n",
       "      <td>0.894141</td>\n",
       "    </tr>\n",
       "    <tr>\n",
       "      <th>6</th>\n",
       "      <td>last_fico_range_low</td>\n",
       "      <td>0.889576</td>\n",
       "    </tr>\n",
       "    <tr>\n",
       "      <th>1</th>\n",
       "      <td>annual_inc</td>\n",
       "      <td>0.799983</td>\n",
       "    </tr>\n",
       "    <tr>\n",
       "      <th>7</th>\n",
       "      <td>fico_range_low</td>\n",
       "      <td>0.799983</td>\n",
       "    </tr>\n",
       "    <tr>\n",
       "      <th>3</th>\n",
       "      <td>revol_util</td>\n",
       "      <td>0.799981</td>\n",
       "    </tr>\n",
       "    <tr>\n",
       "      <th>2</th>\n",
       "      <td>dti</td>\n",
       "      <td>0.799647</td>\n",
       "    </tr>\n",
       "    <tr>\n",
       "      <th>0</th>\n",
       "      <td>int_rate</td>\n",
       "      <td>0.798781</td>\n",
       "    </tr>\n",
       "    <tr>\n",
       "      <th>4</th>\n",
       "      <td>tot_cur_bal</td>\n",
       "      <td>0.797476</td>\n",
       "    </tr>\n",
       "  </tbody>\n",
       "</table>\n",
       "</div>"
      ],
      "text/plain": [
       "                feature  accuracy\n",
       "5  last_fico_range_high  0.894141\n",
       "6   last_fico_range_low  0.889576\n",
       "1            annual_inc  0.799983\n",
       "7        fico_range_low  0.799983\n",
       "3            revol_util  0.799981\n",
       "2                   dti  0.799647\n",
       "0              int_rate  0.798781\n",
       "4           tot_cur_bal  0.797476"
      ]
     },
     "execution_count": 18,
     "metadata": {},
     "output_type": "execute_result"
    }
   ],
   "source": [
    "df_single_accuracy = pd.DataFrame({\n",
    "    \"feature\": lst_feature,\n",
    "    \"accuracy\": lst_accuracy,\n",
    "})\n",
    "df_single_accuracy = (\n",
    "    df_single_accuracy\n",
    "    .reset_index(drop=True)\n",
    "    .sort_values(by=\"accuracy\", ascending=False)\n",
    ")\n",
    "df_single_accuracy"
   ]
  },
  {
   "cell_type": "markdown",
   "id": "be1b052d-e596-4e6b-9898-382f008b7caa",
   "metadata": {},
   "source": [
    "## Fitting Progressive `LogisticRegressions`"
   ]
  },
  {
   "cell_type": "code",
   "execution_count": 28,
   "id": "5e2c8a6f-0594-43c3-92a9-6d461b10855a",
   "metadata": {},
   "outputs": [
    {
     "name": "stdout",
     "output_type": "stream",
     "text": [
      "['last_fico_range_high']\n",
      "['last_fico_range_high', 'last_fico_range_low']\n",
      "['last_fico_range_high', 'last_fico_range_low', 'annual_inc']\n",
      "['last_fico_range_high', 'last_fico_range_low', 'annual_inc', 'fico_range_low']\n",
      "['last_fico_range_high', 'last_fico_range_low', 'annual_inc', 'fico_range_low', 'revol_util']\n",
      "['last_fico_range_high', 'last_fico_range_low', 'annual_inc', 'fico_range_low', 'revol_util', 'dti']\n",
      "['last_fico_range_high', 'last_fico_range_low', 'annual_inc', 'fico_range_low', 'revol_util', 'dti', 'int_rate']\n"
     ]
    }
   ],
   "source": [
    "lst_features = []\n",
    "lst_accuracy = []\n",
    "for ix in range(1, len(df_single_accuracy)):\n",
    "    features = list(df_single_accuracy[\"feature\"][0:ix])\n",
    "    print(features)\n",
    "    df_train = df_default[features + [\"charged_off\"]].dropna()\n",
    "    X = df_train[features]\n",
    "    y = df_train[\"charged_off\"]\n",
    "    model = LogisticRegression(max_iter=1000)\n",
    "    acc = cross_val_score(model, X, y)\n",
    "    lst_features.append(features)\n",
    "    lst_accuracy.append(np.mean(acc))"
   ]
  },
  {
   "cell_type": "code",
   "execution_count": 29,
   "id": "7de4ea0c-0f5d-44c0-8701-b6243668ba0c",
   "metadata": {},
   "outputs": [
    {
     "data": {
      "text/html": [
       "<div>\n",
       "<style scoped>\n",
       "    .dataframe tbody tr th:only-of-type {\n",
       "        vertical-align: middle;\n",
       "    }\n",
       "\n",
       "    .dataframe tbody tr th {\n",
       "        vertical-align: top;\n",
       "    }\n",
       "\n",
       "    .dataframe thead th {\n",
       "        text-align: right;\n",
       "    }\n",
       "</style>\n",
       "<table border=\"1\" class=\"dataframe\">\n",
       "  <thead>\n",
       "    <tr style=\"text-align: right;\">\n",
       "      <th></th>\n",
       "      <th>feature</th>\n",
       "      <th>accuracy</th>\n",
       "    </tr>\n",
       "  </thead>\n",
       "  <tbody>\n",
       "    <tr>\n",
       "      <th>6</th>\n",
       "      <td>[last_fico_range_high, last_fico_range_low, an...</td>\n",
       "      <td>0.897367</td>\n",
       "    </tr>\n",
       "    <tr>\n",
       "      <th>5</th>\n",
       "      <td>[last_fico_range_high, last_fico_range_low, an...</td>\n",
       "      <td>0.895683</td>\n",
       "    </tr>\n",
       "    <tr>\n",
       "      <th>0</th>\n",
       "      <td>[last_fico_range_high]</td>\n",
       "      <td>0.894141</td>\n",
       "    </tr>\n",
       "    <tr>\n",
       "      <th>1</th>\n",
       "      <td>[last_fico_range_high, last_fico_range_low]</td>\n",
       "      <td>0.894141</td>\n",
       "    </tr>\n",
       "    <tr>\n",
       "      <th>2</th>\n",
       "      <td>[last_fico_range_high, last_fico_range_low, an...</td>\n",
       "      <td>0.894132</td>\n",
       "    </tr>\n",
       "    <tr>\n",
       "      <th>4</th>\n",
       "      <td>[last_fico_range_high, last_fico_range_low, an...</td>\n",
       "      <td>0.893057</td>\n",
       "    </tr>\n",
       "    <tr>\n",
       "      <th>3</th>\n",
       "      <td>[last_fico_range_high, last_fico_range_low, an...</td>\n",
       "      <td>0.892553</td>\n",
       "    </tr>\n",
       "  </tbody>\n",
       "</table>\n",
       "</div>"
      ],
      "text/plain": [
       "                                             feature  accuracy\n",
       "6  [last_fico_range_high, last_fico_range_low, an...  0.897367\n",
       "5  [last_fico_range_high, last_fico_range_low, an...  0.895683\n",
       "0                             [last_fico_range_high]  0.894141\n",
       "1        [last_fico_range_high, last_fico_range_low]  0.894141\n",
       "2  [last_fico_range_high, last_fico_range_low, an...  0.894132\n",
       "4  [last_fico_range_high, last_fico_range_low, an...  0.893057\n",
       "3  [last_fico_range_high, last_fico_range_low, an...  0.892553"
      ]
     },
     "execution_count": 29,
     "metadata": {},
     "output_type": "execute_result"
    }
   ],
   "source": [
    "df_multiple_accuracy = pd.DataFrame({\n",
    "    \"feature\": lst_features,\n",
    "    \"accuracy\": lst_accuracy,\n",
    "})\n",
    "df_multiple_accuracy = (\n",
    "    df_multiple_accuracy\n",
    "    .reset_index(drop=True)\n",
    "    .sort_values(by=\"accuracy\", ascending=False)\n",
    ")\n",
    "df_multiple_accuracy"
   ]
  },
  {
   "cell_type": "markdown",
   "id": "79dd31f3-e262-498e-8a4a-865c51c5b142",
   "metadata": {},
   "source": [
    "## Organizing Features and Labels"
   ]
  },
  {
   "cell_type": "markdown",
   "id": "c837fc6c-9552-44bf-85be-f755a760e2bc",
   "metadata": {},
   "source": [
    "I have a suspicion that `last_fico_range_high` and `last_fico_range_low` are observed after the loan has been issued, so we will remove these.\n",
    "\n",
    "Let's now isolate our the columns that we will need for our analysis.  Note that `loan_amnt` is not one of our predictive features, we are keeping it to do further analysis once we have our inferences."
   ]
  },
  {
   "cell_type": "code",
   "execution_count": 30,
   "id": "7a206fb0-baef-4b2a-9815-3c4ddfcbd169",
   "metadata": {},
   "outputs": [],
   "source": [
    "columns = [\"loan_amnt\", \"int_rate\", \"annual_inc\", \"dti\", \"revol_util\", \"tot_cur_bal\", \"charged_off\"]\n",
    "features = [\"int_rate\", \"annual_inc\", \"dti\", \"revol_util\", \"tot_cur_bal\"]"
   ]
  },
  {
   "cell_type": "markdown",
   "id": "536dca12-b082-4a81-9f08-5508c5e7a4ae",
   "metadata": {},
   "source": [
    "Here we are dropping observations that have missing values.  Missing values should be handled using a `pipeline`; we will demonstrate this in a subsequent notebook."
   ]
  },
  {
   "cell_type": "code",
   "execution_count": 31,
   "id": "e75cf45d-7cfa-4d20-b531-dd8372005224",
   "metadata": {},
   "outputs": [],
   "source": [
    "df_train = df_default[columns].dropna()"
   ]
  },
  {
   "cell_type": "markdown",
   "id": "df469237-f017-4cb1-8523-dc8ea3e70dfe",
   "metadata": {},
   "source": [
    "Finally, we isolate our predictive features and labels."
   ]
  },
  {
   "cell_type": "code",
   "execution_count": 32,
   "id": "1866460c-3192-4506-8d69-8ea562537b61",
   "metadata": {},
   "outputs": [],
   "source": [
    "X = df_train[features]\n",
    "y = df_train[\"charged_off\"]"
   ]
  },
  {
   "cell_type": "markdown",
   "id": "67da2783-735a-41ff-8c3e-4858249650bb",
   "metadata": {},
   "source": [
    "## Cross-Validation Accuracy"
   ]
  },
  {
   "cell_type": "markdown",
   "id": "a221ce5a-4e10-4d2d-bc6c-8c242e05ca5b",
   "metadata": {},
   "source": [
    "Now we use `cross_val_score()` to estimate our out-of-sample performance."
   ]
  },
  {
   "cell_type": "code",
   "execution_count": 33,
   "id": "e7a6f8ff-7ce1-4248-9f7c-00f391234c5c",
   "metadata": {},
   "outputs": [],
   "source": [
    "from sklearn.linear_model import LogisticRegression\n",
    "from sklearn.model_selection import cross_val_score"
   ]
  },
  {
   "cell_type": "code",
   "execution_count": 34,
   "id": "aec11c93-e478-46e8-8761-de0d2b0242ec",
   "metadata": {},
   "outputs": [
    {
     "data": {
      "text/plain": [
       "array([0.7971839 , 0.79709528, 0.79748518, 0.79652817, 0.79723706])"
      ]
     },
     "execution_count": 34,
     "metadata": {},
     "output_type": "execute_result"
    }
   ],
   "source": [
    "model = LogisticRegression(max_iter=1000)\n",
    "cross_val_score(model, X, y)"
   ]
  },
  {
   "cell_type": "markdown",
   "id": "3ee9068d-36d2-4bda-ad2d-984998821631",
   "metadata": {},
   "source": [
    "As we can see, our model does about as well as the degenerate model of always assuming `False`.  Thus, our model doesn't have much predictive power."
   ]
  },
  {
   "cell_type": "code",
   "execution_count": 35,
   "id": "bca235de-c6f8-4e39-9b51-465a7fb37fe2",
   "metadata": {},
   "outputs": [
    {
     "data": {
      "text/plain": [
       "0.7974532791025335"
      ]
     },
     "execution_count": 35,
     "metadata": {},
     "output_type": "execute_result"
    }
   ],
   "source": [
    "1 - y.mean()"
   ]
  },
  {
   "cell_type": "markdown",
   "id": "842f5b05-d00b-4e5d-963f-c24893a7fd28",
   "metadata": {},
   "source": [
    "## Fitting Model to Entire Data Set"
   ]
  },
  {
   "cell_type": "markdown",
   "id": "94c9fe42-9cd6-4138-a9bb-b02db4266174",
   "metadata": {},
   "source": [
    "Next, we fit our model to the entire data set and examine the in-sample inferences."
   ]
  },
  {
   "cell_type": "code",
   "execution_count": 36,
   "id": "d802461b-9e1f-46a9-a704-b09e0e4ac858",
   "metadata": {},
   "outputs": [
    {
     "data": {
      "text/html": [
       "<style>#sk-container-id-1 {\n",
       "  /* Definition of color scheme common for light and dark mode */\n",
       "  --sklearn-color-text: black;\n",
       "  --sklearn-color-line: gray;\n",
       "  /* Definition of color scheme for unfitted estimators */\n",
       "  --sklearn-color-unfitted-level-0: #fff5e6;\n",
       "  --sklearn-color-unfitted-level-1: #f6e4d2;\n",
       "  --sklearn-color-unfitted-level-2: #ffe0b3;\n",
       "  --sklearn-color-unfitted-level-3: chocolate;\n",
       "  /* Definition of color scheme for fitted estimators */\n",
       "  --sklearn-color-fitted-level-0: #f0f8ff;\n",
       "  --sklearn-color-fitted-level-1: #d4ebff;\n",
       "  --sklearn-color-fitted-level-2: #b3dbfd;\n",
       "  --sklearn-color-fitted-level-3: cornflowerblue;\n",
       "\n",
       "  /* Specific color for light theme */\n",
       "  --sklearn-color-text-on-default-background: var(--sg-text-color, var(--theme-code-foreground, var(--jp-content-font-color1, black)));\n",
       "  --sklearn-color-background: var(--sg-background-color, var(--theme-background, var(--jp-layout-color0, white)));\n",
       "  --sklearn-color-border-box: var(--sg-text-color, var(--theme-code-foreground, var(--jp-content-font-color1, black)));\n",
       "  --sklearn-color-icon: #696969;\n",
       "\n",
       "  @media (prefers-color-scheme: dark) {\n",
       "    /* Redefinition of color scheme for dark theme */\n",
       "    --sklearn-color-text-on-default-background: var(--sg-text-color, var(--theme-code-foreground, var(--jp-content-font-color1, white)));\n",
       "    --sklearn-color-background: var(--sg-background-color, var(--theme-background, var(--jp-layout-color0, #111)));\n",
       "    --sklearn-color-border-box: var(--sg-text-color, var(--theme-code-foreground, var(--jp-content-font-color1, white)));\n",
       "    --sklearn-color-icon: #878787;\n",
       "  }\n",
       "}\n",
       "\n",
       "#sk-container-id-1 {\n",
       "  color: var(--sklearn-color-text);\n",
       "}\n",
       "\n",
       "#sk-container-id-1 pre {\n",
       "  padding: 0;\n",
       "}\n",
       "\n",
       "#sk-container-id-1 input.sk-hidden--visually {\n",
       "  border: 0;\n",
       "  clip: rect(1px 1px 1px 1px);\n",
       "  clip: rect(1px, 1px, 1px, 1px);\n",
       "  height: 1px;\n",
       "  margin: -1px;\n",
       "  overflow: hidden;\n",
       "  padding: 0;\n",
       "  position: absolute;\n",
       "  width: 1px;\n",
       "}\n",
       "\n",
       "#sk-container-id-1 div.sk-dashed-wrapped {\n",
       "  border: 1px dashed var(--sklearn-color-line);\n",
       "  margin: 0 0.4em 0.5em 0.4em;\n",
       "  box-sizing: border-box;\n",
       "  padding-bottom: 0.4em;\n",
       "  background-color: var(--sklearn-color-background);\n",
       "}\n",
       "\n",
       "#sk-container-id-1 div.sk-container {\n",
       "  /* jupyter's `normalize.less` sets `[hidden] { display: none; }`\n",
       "     but bootstrap.min.css set `[hidden] { display: none !important; }`\n",
       "     so we also need the `!important` here to be able to override the\n",
       "     default hidden behavior on the sphinx rendered scikit-learn.org.\n",
       "     See: https://github.com/scikit-learn/scikit-learn/issues/21755 */\n",
       "  display: inline-block !important;\n",
       "  position: relative;\n",
       "}\n",
       "\n",
       "#sk-container-id-1 div.sk-text-repr-fallback {\n",
       "  display: none;\n",
       "}\n",
       "\n",
       "div.sk-parallel-item,\n",
       "div.sk-serial,\n",
       "div.sk-item {\n",
       "  /* draw centered vertical line to link estimators */\n",
       "  background-image: linear-gradient(var(--sklearn-color-text-on-default-background), var(--sklearn-color-text-on-default-background));\n",
       "  background-size: 2px 100%;\n",
       "  background-repeat: no-repeat;\n",
       "  background-position: center center;\n",
       "}\n",
       "\n",
       "/* Parallel-specific style estimator block */\n",
       "\n",
       "#sk-container-id-1 div.sk-parallel-item::after {\n",
       "  content: \"\";\n",
       "  width: 100%;\n",
       "  border-bottom: 2px solid var(--sklearn-color-text-on-default-background);\n",
       "  flex-grow: 1;\n",
       "}\n",
       "\n",
       "#sk-container-id-1 div.sk-parallel {\n",
       "  display: flex;\n",
       "  align-items: stretch;\n",
       "  justify-content: center;\n",
       "  background-color: var(--sklearn-color-background);\n",
       "  position: relative;\n",
       "}\n",
       "\n",
       "#sk-container-id-1 div.sk-parallel-item {\n",
       "  display: flex;\n",
       "  flex-direction: column;\n",
       "}\n",
       "\n",
       "#sk-container-id-1 div.sk-parallel-item:first-child::after {\n",
       "  align-self: flex-end;\n",
       "  width: 50%;\n",
       "}\n",
       "\n",
       "#sk-container-id-1 div.sk-parallel-item:last-child::after {\n",
       "  align-self: flex-start;\n",
       "  width: 50%;\n",
       "}\n",
       "\n",
       "#sk-container-id-1 div.sk-parallel-item:only-child::after {\n",
       "  width: 0;\n",
       "}\n",
       "\n",
       "/* Serial-specific style estimator block */\n",
       "\n",
       "#sk-container-id-1 div.sk-serial {\n",
       "  display: flex;\n",
       "  flex-direction: column;\n",
       "  align-items: center;\n",
       "  background-color: var(--sklearn-color-background);\n",
       "  padding-right: 1em;\n",
       "  padding-left: 1em;\n",
       "}\n",
       "\n",
       "\n",
       "/* Toggleable style: style used for estimator/Pipeline/ColumnTransformer box that is\n",
       "clickable and can be expanded/collapsed.\n",
       "- Pipeline and ColumnTransformer use this feature and define the default style\n",
       "- Estimators will overwrite some part of the style using the `sk-estimator` class\n",
       "*/\n",
       "\n",
       "/* Pipeline and ColumnTransformer style (default) */\n",
       "\n",
       "#sk-container-id-1 div.sk-toggleable {\n",
       "  /* Default theme specific background. It is overwritten whether we have a\n",
       "  specific estimator or a Pipeline/ColumnTransformer */\n",
       "  background-color: var(--sklearn-color-background);\n",
       "}\n",
       "\n",
       "/* Toggleable label */\n",
       "#sk-container-id-1 label.sk-toggleable__label {\n",
       "  cursor: pointer;\n",
       "  display: block;\n",
       "  width: 100%;\n",
       "  margin-bottom: 0;\n",
       "  padding: 0.5em;\n",
       "  box-sizing: border-box;\n",
       "  text-align: center;\n",
       "}\n",
       "\n",
       "#sk-container-id-1 label.sk-toggleable__label-arrow:before {\n",
       "  /* Arrow on the left of the label */\n",
       "  content: \"▸\";\n",
       "  float: left;\n",
       "  margin-right: 0.25em;\n",
       "  color: var(--sklearn-color-icon);\n",
       "}\n",
       "\n",
       "#sk-container-id-1 label.sk-toggleable__label-arrow:hover:before {\n",
       "  color: var(--sklearn-color-text);\n",
       "}\n",
       "\n",
       "/* Toggleable content - dropdown */\n",
       "\n",
       "#sk-container-id-1 div.sk-toggleable__content {\n",
       "  max-height: 0;\n",
       "  max-width: 0;\n",
       "  overflow: hidden;\n",
       "  text-align: left;\n",
       "  /* unfitted */\n",
       "  background-color: var(--sklearn-color-unfitted-level-0);\n",
       "}\n",
       "\n",
       "#sk-container-id-1 div.sk-toggleable__content.fitted {\n",
       "  /* fitted */\n",
       "  background-color: var(--sklearn-color-fitted-level-0);\n",
       "}\n",
       "\n",
       "#sk-container-id-1 div.sk-toggleable__content pre {\n",
       "  margin: 0.2em;\n",
       "  border-radius: 0.25em;\n",
       "  color: var(--sklearn-color-text);\n",
       "  /* unfitted */\n",
       "  background-color: var(--sklearn-color-unfitted-level-0);\n",
       "}\n",
       "\n",
       "#sk-container-id-1 div.sk-toggleable__content.fitted pre {\n",
       "  /* unfitted */\n",
       "  background-color: var(--sklearn-color-fitted-level-0);\n",
       "}\n",
       "\n",
       "#sk-container-id-1 input.sk-toggleable__control:checked~div.sk-toggleable__content {\n",
       "  /* Expand drop-down */\n",
       "  max-height: 200px;\n",
       "  max-width: 100%;\n",
       "  overflow: auto;\n",
       "}\n",
       "\n",
       "#sk-container-id-1 input.sk-toggleable__control:checked~label.sk-toggleable__label-arrow:before {\n",
       "  content: \"▾\";\n",
       "}\n",
       "\n",
       "/* Pipeline/ColumnTransformer-specific style */\n",
       "\n",
       "#sk-container-id-1 div.sk-label input.sk-toggleable__control:checked~label.sk-toggleable__label {\n",
       "  color: var(--sklearn-color-text);\n",
       "  background-color: var(--sklearn-color-unfitted-level-2);\n",
       "}\n",
       "\n",
       "#sk-container-id-1 div.sk-label.fitted input.sk-toggleable__control:checked~label.sk-toggleable__label {\n",
       "  background-color: var(--sklearn-color-fitted-level-2);\n",
       "}\n",
       "\n",
       "/* Estimator-specific style */\n",
       "\n",
       "/* Colorize estimator box */\n",
       "#sk-container-id-1 div.sk-estimator input.sk-toggleable__control:checked~label.sk-toggleable__label {\n",
       "  /* unfitted */\n",
       "  background-color: var(--sklearn-color-unfitted-level-2);\n",
       "}\n",
       "\n",
       "#sk-container-id-1 div.sk-estimator.fitted input.sk-toggleable__control:checked~label.sk-toggleable__label {\n",
       "  /* fitted */\n",
       "  background-color: var(--sklearn-color-fitted-level-2);\n",
       "}\n",
       "\n",
       "#sk-container-id-1 div.sk-label label.sk-toggleable__label,\n",
       "#sk-container-id-1 div.sk-label label {\n",
       "  /* The background is the default theme color */\n",
       "  color: var(--sklearn-color-text-on-default-background);\n",
       "}\n",
       "\n",
       "/* On hover, darken the color of the background */\n",
       "#sk-container-id-1 div.sk-label:hover label.sk-toggleable__label {\n",
       "  color: var(--sklearn-color-text);\n",
       "  background-color: var(--sklearn-color-unfitted-level-2);\n",
       "}\n",
       "\n",
       "/* Label box, darken color on hover, fitted */\n",
       "#sk-container-id-1 div.sk-label.fitted:hover label.sk-toggleable__label.fitted {\n",
       "  color: var(--sklearn-color-text);\n",
       "  background-color: var(--sklearn-color-fitted-level-2);\n",
       "}\n",
       "\n",
       "/* Estimator label */\n",
       "\n",
       "#sk-container-id-1 div.sk-label label {\n",
       "  font-family: monospace;\n",
       "  font-weight: bold;\n",
       "  display: inline-block;\n",
       "  line-height: 1.2em;\n",
       "}\n",
       "\n",
       "#sk-container-id-1 div.sk-label-container {\n",
       "  text-align: center;\n",
       "}\n",
       "\n",
       "/* Estimator-specific */\n",
       "#sk-container-id-1 div.sk-estimator {\n",
       "  font-family: monospace;\n",
       "  border: 1px dotted var(--sklearn-color-border-box);\n",
       "  border-radius: 0.25em;\n",
       "  box-sizing: border-box;\n",
       "  margin-bottom: 0.5em;\n",
       "  /* unfitted */\n",
       "  background-color: var(--sklearn-color-unfitted-level-0);\n",
       "}\n",
       "\n",
       "#sk-container-id-1 div.sk-estimator.fitted {\n",
       "  /* fitted */\n",
       "  background-color: var(--sklearn-color-fitted-level-0);\n",
       "}\n",
       "\n",
       "/* on hover */\n",
       "#sk-container-id-1 div.sk-estimator:hover {\n",
       "  /* unfitted */\n",
       "  background-color: var(--sklearn-color-unfitted-level-2);\n",
       "}\n",
       "\n",
       "#sk-container-id-1 div.sk-estimator.fitted:hover {\n",
       "  /* fitted */\n",
       "  background-color: var(--sklearn-color-fitted-level-2);\n",
       "}\n",
       "\n",
       "/* Specification for estimator info (e.g. \"i\" and \"?\") */\n",
       "\n",
       "/* Common style for \"i\" and \"?\" */\n",
       "\n",
       ".sk-estimator-doc-link,\n",
       "a:link.sk-estimator-doc-link,\n",
       "a:visited.sk-estimator-doc-link {\n",
       "  float: right;\n",
       "  font-size: smaller;\n",
       "  line-height: 1em;\n",
       "  font-family: monospace;\n",
       "  background-color: var(--sklearn-color-background);\n",
       "  border-radius: 1em;\n",
       "  height: 1em;\n",
       "  width: 1em;\n",
       "  text-decoration: none !important;\n",
       "  margin-left: 1ex;\n",
       "  /* unfitted */\n",
       "  border: var(--sklearn-color-unfitted-level-1) 1pt solid;\n",
       "  color: var(--sklearn-color-unfitted-level-1);\n",
       "}\n",
       "\n",
       ".sk-estimator-doc-link.fitted,\n",
       "a:link.sk-estimator-doc-link.fitted,\n",
       "a:visited.sk-estimator-doc-link.fitted {\n",
       "  /* fitted */\n",
       "  border: var(--sklearn-color-fitted-level-1) 1pt solid;\n",
       "  color: var(--sklearn-color-fitted-level-1);\n",
       "}\n",
       "\n",
       "/* On hover */\n",
       "div.sk-estimator:hover .sk-estimator-doc-link:hover,\n",
       ".sk-estimator-doc-link:hover,\n",
       "div.sk-label-container:hover .sk-estimator-doc-link:hover,\n",
       ".sk-estimator-doc-link:hover {\n",
       "  /* unfitted */\n",
       "  background-color: var(--sklearn-color-unfitted-level-3);\n",
       "  color: var(--sklearn-color-background);\n",
       "  text-decoration: none;\n",
       "}\n",
       "\n",
       "div.sk-estimator.fitted:hover .sk-estimator-doc-link.fitted:hover,\n",
       ".sk-estimator-doc-link.fitted:hover,\n",
       "div.sk-label-container:hover .sk-estimator-doc-link.fitted:hover,\n",
       ".sk-estimator-doc-link.fitted:hover {\n",
       "  /* fitted */\n",
       "  background-color: var(--sklearn-color-fitted-level-3);\n",
       "  color: var(--sklearn-color-background);\n",
       "  text-decoration: none;\n",
       "}\n",
       "\n",
       "/* Span, style for the box shown on hovering the info icon */\n",
       ".sk-estimator-doc-link span {\n",
       "  display: none;\n",
       "  z-index: 9999;\n",
       "  position: relative;\n",
       "  font-weight: normal;\n",
       "  right: .2ex;\n",
       "  padding: .5ex;\n",
       "  margin: .5ex;\n",
       "  width: min-content;\n",
       "  min-width: 20ex;\n",
       "  max-width: 50ex;\n",
       "  color: var(--sklearn-color-text);\n",
       "  box-shadow: 2pt 2pt 4pt #999;\n",
       "  /* unfitted */\n",
       "  background: var(--sklearn-color-unfitted-level-0);\n",
       "  border: .5pt solid var(--sklearn-color-unfitted-level-3);\n",
       "}\n",
       "\n",
       ".sk-estimator-doc-link.fitted span {\n",
       "  /* fitted */\n",
       "  background: var(--sklearn-color-fitted-level-0);\n",
       "  border: var(--sklearn-color-fitted-level-3);\n",
       "}\n",
       "\n",
       ".sk-estimator-doc-link:hover span {\n",
       "  display: block;\n",
       "}\n",
       "\n",
       "/* \"?\"-specific style due to the `<a>` HTML tag */\n",
       "\n",
       "#sk-container-id-1 a.estimator_doc_link {\n",
       "  float: right;\n",
       "  font-size: 1rem;\n",
       "  line-height: 1em;\n",
       "  font-family: monospace;\n",
       "  background-color: var(--sklearn-color-background);\n",
       "  border-radius: 1rem;\n",
       "  height: 1rem;\n",
       "  width: 1rem;\n",
       "  text-decoration: none;\n",
       "  /* unfitted */\n",
       "  color: var(--sklearn-color-unfitted-level-1);\n",
       "  border: var(--sklearn-color-unfitted-level-1) 1pt solid;\n",
       "}\n",
       "\n",
       "#sk-container-id-1 a.estimator_doc_link.fitted {\n",
       "  /* fitted */\n",
       "  border: var(--sklearn-color-fitted-level-1) 1pt solid;\n",
       "  color: var(--sklearn-color-fitted-level-1);\n",
       "}\n",
       "\n",
       "/* On hover */\n",
       "#sk-container-id-1 a.estimator_doc_link:hover {\n",
       "  /* unfitted */\n",
       "  background-color: var(--sklearn-color-unfitted-level-3);\n",
       "  color: var(--sklearn-color-background);\n",
       "  text-decoration: none;\n",
       "}\n",
       "\n",
       "#sk-container-id-1 a.estimator_doc_link.fitted:hover {\n",
       "  /* fitted */\n",
       "  background-color: var(--sklearn-color-fitted-level-3);\n",
       "}\n",
       "</style><div id=\"sk-container-id-1\" class=\"sk-top-container\"><div class=\"sk-text-repr-fallback\"><pre>LogisticRegression(max_iter=1000)</pre><b>In a Jupyter environment, please rerun this cell to show the HTML representation or trust the notebook. <br />On GitHub, the HTML representation is unable to render, please try loading this page with nbviewer.org.</b></div><div class=\"sk-container\" hidden><div class=\"sk-item\"><div class=\"sk-estimator fitted sk-toggleable\"><input class=\"sk-toggleable__control sk-hidden--visually\" id=\"sk-estimator-id-1\" type=\"checkbox\" checked><label for=\"sk-estimator-id-1\" class=\"sk-toggleable__label fitted sk-toggleable__label-arrow fitted\">&nbsp;&nbsp;LogisticRegression<a class=\"sk-estimator-doc-link fitted\" rel=\"noreferrer\" target=\"_blank\" href=\"https://scikit-learn.org/1.5/modules/generated/sklearn.linear_model.LogisticRegression.html\">?<span>Documentation for LogisticRegression</span></a><span class=\"sk-estimator-doc-link fitted\">i<span>Fitted</span></span></label><div class=\"sk-toggleable__content fitted\"><pre>LogisticRegression(max_iter=1000)</pre></div> </div></div></div></div>"
      ],
      "text/plain": [
       "LogisticRegression(max_iter=1000)"
      ]
     },
     "execution_count": 36,
     "metadata": {},
     "output_type": "execute_result"
    }
   ],
   "source": [
    "model.fit(X, y)"
   ]
  },
  {
   "cell_type": "markdown",
   "id": "6d27c7d4-fa80-40d7-8c6e-09b73574f4a9",
   "metadata": {},
   "source": [
    "The in-sample accuracy is about the same as the out of sample accuracy."
   ]
  },
  {
   "cell_type": "code",
   "execution_count": 37,
   "id": "cb24a20b-cec0-46ea-b8e9-267a7516070a",
   "metadata": {},
   "outputs": [
    {
     "data": {
      "text/plain": [
       "0.7971218686586738"
      ]
     },
     "execution_count": 37,
     "metadata": {},
     "output_type": "execute_result"
    }
   ],
   "source": [
    "model.score(X, y)"
   ]
  },
  {
   "cell_type": "markdown",
   "id": "19c79019-3617-4285-ad74-d779877ec007",
   "metadata": {},
   "source": [
    "Recall that about 20.2% of the individual loans in the training set defaulted. "
   ]
  },
  {
   "cell_type": "code",
   "execution_count": 39,
   "id": "c8b38373-84cc-44a3-9e8d-2f2c4caeda65",
   "metadata": {},
   "outputs": [
    {
     "data": {
      "text/plain": [
       "0.20254672089746656"
      ]
     },
     "execution_count": 39,
     "metadata": {},
     "output_type": "execute_result"
    }
   ],
   "source": [
    "y.mean()"
   ]
  },
  {
   "cell_type": "markdown",
   "id": "e5699b2c-b9f6-4215-9598-23bf5f3675f1",
   "metadata": {},
   "source": [
    "However, when using the hard predictions from the model, we see that only 2.5% of the loans are forecasted to default."
   ]
  },
  {
   "cell_type": "code",
   "execution_count": 40,
   "id": "5c490462-6270-4cb6-88ab-b10eb7f13490",
   "metadata": {},
   "outputs": [
    {
     "data": {
      "text/plain": [
       "0.024940851210888695"
      ]
     },
     "execution_count": 40,
     "metadata": {},
     "output_type": "execute_result"
    }
   ],
   "source": [
    "model.predict(X).mean()"
   ]
  },
  {
   "cell_type": "markdown",
   "id": "7677bec6-3073-429a-8369-1a816d70ff7a",
   "metadata": {},
   "source": [
    "Now, let's check the dollar value of the loans that defaulted.  Notice that, notice that about \\\\$1.78 billion of the \\\\$8.19 billion defaulted."
   ]
  },
  {
   "cell_type": "code",
   "execution_count": 42,
   "id": "63376562-522e-4c41-8930-484e4b559e87",
   "metadata": {},
   "outputs": [
    {
     "name": "stdout",
     "output_type": "stream",
     "text": [
      "Defaulted: 1787274475.0\n",
      "Total: 8198093675.0\n"
     ]
    }
   ],
   "source": [
    "print(\"Defaulted:\", np.sum(df_train[\"loan_amnt\"] * df_train[\"charged_off\"]))\n",
    "print(\"Total:\", np.sum(df_train[\"loan_amnt\"]))"
   ]
  },
  {
   "cell_type": "markdown",
   "id": "f0e9b44d-c06e-4c52-9cac-244b8690b7d8",
   "metadata": {},
   "source": [
    "That's about 21.8% of the total loans balance issued."
   ]
  },
  {
   "cell_type": "code",
   "execution_count": 43,
   "id": "ad0a4fd4-e023-417d-bce3-c4c8b6bafaa8",
   "metadata": {},
   "outputs": [
    {
     "data": {
      "text/plain": [
       "0.2180109847305447"
      ]
     },
     "execution_count": 43,
     "metadata": {},
     "output_type": "execute_result"
    }
   ],
   "source": [
    "np.sum(df_train[\"loan_amnt\"] * df_train[\"charged_off\"]) / np.sum(df_train[\"loan_amnt\"])"
   ]
  },
  {
   "cell_type": "markdown",
   "id": "bdee77c6-5d03-410c-801f-ff78f4fe165f",
   "metadata": {},
   "source": [
    "The expected value of the loan balance predicted by the model is \\\\$1.69 billion, which is 95% of the actual loan balance."
   ]
  },
  {
   "cell_type": "code",
   "execution_count": 45,
   "id": "d93bf1ee-3a8d-4196-b37c-72a609f81037",
   "metadata": {},
   "outputs": [
    {
     "data": {
      "text/plain": [
       "1699247568.442789"
      ]
     },
     "execution_count": 45,
     "metadata": {},
     "output_type": "execute_result"
    }
   ],
   "source": [
    "np.sum(df_train[\"loan_amnt\"] * model.predict_proba(X)[:,1])"
   ]
  },
  {
   "cell_type": "code",
   "execution_count": 46,
   "id": "38630168-eb75-4d6c-bf13-188dbdfb10d3",
   "metadata": {},
   "outputs": [
    {
     "data": {
      "text/plain": [
       "0.9507479641272162"
      ]
     },
     "execution_count": 46,
     "metadata": {},
     "output_type": "execute_result"
    }
   ],
   "source": [
    "np.sum(df_train[\"loan_amnt\"] * model.predict_proba(X)[:,1]) / np.sum(df_train[\"loan_amnt\"] * df_train[\"charged_off\"])"
   ]
  },
  {
   "cell_type": "markdown",
   "id": "9d79379e-a821-4372-9183-00cc42bea444",
   "metadata": {},
   "source": [
    "**Conclusion:** Our model isn't working that well in terms of hard predictions, but performing alright in terms of expected balance defaulted."
   ]
  }
 ],
 "metadata": {
  "kernelspec": {
   "display_name": "Python 3 (ipykernel)",
   "language": "python",
   "name": "python3"
  },
  "language_info": {
   "codemirror_mode": {
    "name": "ipython",
    "version": 3
   },
   "file_extension": ".py",
   "mimetype": "text/x-python",
   "name": "python",
   "nbconvert_exporter": "python",
   "pygments_lexer": "ipython3",
   "version": "3.10.12"
  }
 },
 "nbformat": 4,
 "nbformat_minor": 5
}
